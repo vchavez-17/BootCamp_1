{
 "cells": [
  {
   "cell_type": "raw",
   "id": "d4090a2b-8acb-4920-834c-5fa1ff40d2ed",
   "metadata": {},
   "source": []
  },
  {
   "cell_type": "code",
   "execution_count": 49,
   "id": "1d714964-5b5e-4e64-9fc1-dffe214f0e36",
   "metadata": {},
   "outputs": [
    {
     "name": "stdout",
     "output_type": "stream",
     "text": [
      "Resultado sin listas de compresion: [0, 2, 4, 6, 8, 10]\n",
      "------------------------------------\n",
      "Resultado con listas de compresion: [0, 2, 4, 6, 8, 10]\n"
     ]
    }
   ],
   "source": [
    "#Clase 4 -- ejercicio 1,  Listas de compresion : ejemplo sin listas de compresion, para mi propia compresion.\n",
    "\n",
    "pares = []\n",
    "for i in range(0, 11):\n",
    "    if i % 2 == 0:\n",
    "        pares.append(i)\n",
    "#print (pares)\n",
    "print(f\"Resultado sin listas de compresion: {pares}\")\n",
    "\n",
    "print(\"------------------------------------\")\n",
    "\n",
    "# Usando listas de compresion\n",
    "\n",
    "numeros_pares = [ i for i in range(0, 11) if i % 2 == 0]\n",
    "print(f\"Resultado con listas de compresion: {numeros_pares}\")\n",
    "    "
   ]
  },
  {
   "cell_type": "code",
   "execution_count": 50,
   "id": "3b622f46-7bfb-4a68-a9a9-617765e89121",
   "metadata": {},
   "outputs": [
    {
     "name": "stdout",
     "output_type": "stream",
     "text": [
      "Lista del 0 al 10 al cuadrado: [0, 1, 4, 9, 16, 25, 36, 49, 64, 81, 100]\n"
     ]
    }
   ],
   "source": [
    "#lista al cuadrado sin fucnion map para mi comprension\n",
    "\n",
    "cuadrados = []\n",
    "cuadrados_lc = [cuadrados**2 for cuadrados in range (11)]\n",
    "\n",
    "print(f\"Lista del 0 al 10 al cuadrado: {cuadrados_lc}\")\n"
   ]
  },
  {
   "cell_type": "code",
   "execution_count": 116,
   "id": "9046cd09-5b65-4920-b70f-11832758364f",
   "metadata": {},
   "outputs": [
    {
     "name": "stdout",
     "output_type": "stream",
     "text": [
      "Lista del 0 al 10 al cuadrado usando la funcion MAP: [1, 4, 9, 16, 25, 36, 49, 64, 81, 100]\n"
     ]
    }
   ],
   "source": [
    "#Lista del 0 al 10 al cuadrado usando la funcion MAP\n",
    "\n",
    "numeros = [1,2,3,4,5,6,7,8,9,10]\n",
    "numeros_al_cuadrado = list(map(lambda x: x**2, numeros))\n",
    "\n",
    "print(f\"Lista del 0 al 10 al cuadrado usando la funcion MAP: {numeros_al_cuadrado}\")\n"
   ]
  },
  {
   "cell_type": "code",
   "execution_count": 114,
   "id": "6081c026-c2fc-4ba3-afb0-b7cd1ec2f829",
   "metadata": {},
   "outputs": [
    {
     "name": "stdout",
     "output_type": "stream",
     "text": [
      "Lista de mayores a 5 usando la funcion Filter: [6, 7, 8, 9, 10]\n"
     ]
    }
   ],
   "source": [
    "# Funcion Filter, muestra una lista con elementos mayores a 5\n",
    "    \n",
    "numeros = [1,2,3,4,5,6,7,8,9,10]\n",
    "numeros_filtrados = list(filter(lambda x: x > 5, numeros))\n",
    "\n",
    "print(f\"Lista de mayores a 5 usando la funcion Filter: {numeros_filtrados}\")"
   ]
  },
  {
   "cell_type": "code",
   "execution_count": 88,
   "id": "0f1bca4d-156f-46bb-b0f3-97528da2d04b",
   "metadata": {},
   "outputs": [
    {
     "name": "stdout",
     "output_type": "stream",
     "text": [
      "  Hola, Mundo!  \n",
      "  Hola, Mundo!\n",
      "La cadena removiendo los espacions en blanco con la funcion rstrip:  Hola, Mundo!\n"
     ]
    }
   ],
   "source": [
    "#remover la espacio en blando usando  rstrip\n",
    "cadena = \"  Hola, Mundo!  \"\n",
    "\n",
    "print(cadena)\n",
    "nueva_cadena = cadena.rstrip()\n",
    "print(nueva_cadena)\n",
    "print(f\"La cadena removiendo los espacions en blanco con la funcion rstrip:{nueva_cadena}\")\n"
   ]
  },
  {
   "cell_type": "code",
   "execution_count": 112,
   "id": "cc9ef542-19a2-4bd7-8cbc-f796518c2cb0",
   "metadata": {},
   "outputs": [
    {
     "name": "stdout",
     "output_type": "stream",
     "text": [
      "La cadena remplazando letras: Hala\n"
     ]
    }
   ],
   "source": [
    "#Remplazar una letra con otra en una cadena\n",
    "\n",
    "frase = \" Hola, Mundo!\"\n",
    "nueva_frase = text.replace(\"o\", \"a\")\n",
    "print(f\"La cadena remplazando letras: {nueva_frase}\")"
   ]
  },
  {
   "cell_type": "code",
   "execution_count": 117,
   "id": "b002d972-8181-4f6a-bed6-107970e331e8",
   "metadata": {},
   "outputs": [
    {
     "name": "stdin",
     "output_type": "stream",
     "text": [
      "Entra una cadena:  todo\n"
     ]
    },
    {
     "name": "stdout",
     "output_type": "stream",
     "text": [
      "La cadena en Mayusculas es: TODO\n",
      "La cadena en Minusculas es: todo\n"
     ]
    }
   ],
   "source": [
    "#Mayusculas y minusculas usando uper and lower\n",
    "texto = input(\"Entra una cadena: \")\n",
    "\n",
    "# Convertir a mayusculas usando upper\n",
    "mayusculas = texto.upper()\n",
    "\n",
    "# Convertir a minusculas usando lower\n",
    "minusculas = texto.lower()\n",
    "\n",
    "# Print the results\n",
    "print(F\"La cadena en Mayusculas es: {mayusculas}\")\n",
    "print(F\"La cadena en Minusculas es: {minusculas}\")\n",
    "    "
   ]
  },
  {
   "cell_type": "code",
   "execution_count": 125,
   "id": "5a6b319c-8c13-4750-9ac1-1aa661c4edeb",
   "metadata": {},
   "outputs": [
    {
     "name": "stdout",
     "output_type": "stream",
     "text": [
      "Se encontro 'Mundo' como indice: 6\n"
     ]
    }
   ],
   "source": [
    "# Encontar la posicion de una sub-cadena\n",
    "texto = \"Hola, Mundo!\"\n",
    "\n",
    "index = texto.find(\"Mundo\")\n",
    "\n",
    "if index != -1:\n",
    "    print(\"Se encontro 'Mundo' como indice:\", index)\n",
    "else:\n",
    "    print(\"'Mundo' No se encontro\")"
   ]
  },
  {
   "cell_type": "code",
   "execution_count": 126,
   "id": "c8aa115a-1f2a-4431-9640-97aa1876e1ed",
   "metadata": {},
   "outputs": [
    {
     "name": "stdout",
     "output_type": "stream",
     "text": [
      "['Mi pais es ', ' lugar hermoso']\n"
     ]
    }
   ],
   "source": [
    "#Funcion split\n",
    "frase = \"Mi pais es un lugar hermoso\"\n",
    "nueva_frase = frase.split(\"un\")\n",
    "print(nueva_frase)\n"
   ]
  },
  {
   "cell_type": "code",
   "execution_count": null,
   "id": "5afcb711-86d6-4d35-9dd3-fb96b3bdb2d1",
   "metadata": {},
   "outputs": [],
   "source": []
  }
 ],
 "metadata": {
  "kernelspec": {
   "display_name": "Python 3 (ipykernel)",
   "language": "python",
   "name": "python3"
  },
  "language_info": {
   "codemirror_mode": {
    "name": "ipython",
    "version": 3
   },
   "file_extension": ".py",
   "mimetype": "text/x-python",
   "name": "python",
   "nbconvert_exporter": "python",
   "pygments_lexer": "ipython3",
   "version": "3.13.1"
  }
 },
 "nbformat": 4,
 "nbformat_minor": 5
}
