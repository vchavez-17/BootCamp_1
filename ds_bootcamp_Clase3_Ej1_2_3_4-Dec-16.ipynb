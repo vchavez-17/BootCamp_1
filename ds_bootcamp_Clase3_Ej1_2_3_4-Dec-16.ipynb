{
 "cells": [
  {
   "cell_type": "code",
   "execution_count": 2,
   "id": "bfdde88d-ddb9-4b95-8f6e-90ad1952adb5",
   "metadata": {},
   "outputs": [
    {
     "name": "stdout",
     "output_type": "stream",
     "text": [
      "Hello\n"
     ]
    }
   ],
   "source": []
  },
  {
   "cell_type": "code",
   "execution_count": 7,
   "id": "a4048df5-e630-48f2-a587-5aac5c40f695",
   "metadata": {},
   "outputs": [
    {
     "name": "stdin",
     "output_type": "stream",
     "text": [
      "Captura un numero entero 10\n"
     ]
    },
    {
     "name": "stdout",
     "output_type": "stream",
     "text": [
      "10\n"
     ]
    }
   ],
   "source": [
    "\n"
   ]
  },
  {
   "cell_type": "code",
   "execution_count": 2,
   "id": "4b5d1516-ebdc-4c62-ba80-1fb207af3bc3",
   "metadata": {},
   "outputs": [
    {
     "name": "stdin",
     "output_type": "stream",
     "text": [
      "Captura un numero entero 21\n"
     ]
    },
    {
     "name": "stdout",
     "output_type": "stream",
     "text": [
      "21\n",
      "21 Es impar.\n"
     ]
    }
   ],
   "source": [
    "#Clase 3, Ejercico 1 -- \n",
    "#int convierte un numero en entero, input permite al usuario entrar un valor, en este caso enntero.\n",
    "#1.1 Solicite al usuario que ingrese un numero entero\n",
    "N_Entero = int(input('Captura un numero entero'))\n",
    "print (N_Entero)\n",
    "\n",
    "# Modulo %, este modulo calcula el remanente cuando la variable, N_Entero es divida entre 2\n",
    "if  N_Entero == 0:\n",
    "    print(N_Entero, \"Es cero.\")\n",
    "elif N_Entero % 2 == 0:\n",
    "    print(N_Entero, \"Es par.\")\n",
    "\n",
    "else:\n",
    "    print(N_Entero, \"Es impar.\")"
   ]
  },
  {
   "cell_type": "code",
   "execution_count": 4,
   "id": "aeac6f6e-f29e-4480-afff-9f22d9a6021a",
   "metadata": {},
   "outputs": [
    {
     "name": "stdin",
     "output_type": "stream",
     "text": [
      "Captura un numero entero 0\n"
     ]
    },
    {
     "name": "stdout",
     "output_type": "stream",
     "text": [
      "0\n",
      "0 Es cero.\n"
     ]
    }
   ],
   "source": [
    "#Clase 3, Ejercico 1 -- 1.2\n",
    "#int convierte un numero en entero, input permite al usuario entrar un valor, en este caso enntero.\n",
    "N_Entero = int(input('Captura un numero entero'))\n",
    "print (N_Entero)\n",
    "\n",
    "#N_Entero es divida entre igual a 0 es 0\n",
    "if  N_Entero == 0:\n",
    "    print(N_Entero, \"Es cero.\")\n",
    "#menor a 0 es negativo\n",
    "elif N_Entero <0:\n",
    "    print(N_Entero, \" Es negativo.\")\n",
    "# el resto es positivo\n",
    "else:\n",
    "    print(N_Entero, \"Es positivo.\")"
   ]
  },
  {
   "cell_type": "code",
   "execution_count": 23,
   "id": "b59bd6fd-beaf-4955-bbc8-46435592bd56",
   "metadata": {},
   "outputs": [
    {
     "name": "stdin",
     "output_type": "stream",
     "text": [
      "Porfavor ingresa un numero entero:  1.1\n"
     ]
    },
    {
     "name": "stdout",
     "output_type": "stream",
     "text": [
      "Numero invalido. Por favor ingresa un numero entero.\n"
     ]
    },
    {
     "name": "stdin",
     "output_type": "stream",
     "text": [
      "Porfavor ingresa un numero entero:  10\n"
     ]
    },
    {
     "name": "stdout",
     "output_type": "stream",
     "text": [
      "Usted ha ingresado: 10\n"
     ]
    }
   ],
   "source": [
    "#Bono, Try  break, se brinca parte del codigo hasta dond de esta except y regreso al principio, seguira con el codigo hastra que se cumpla\n",
    "while True:\n",
    "    try:\n",
    "        valor_usuario= input(\"Porfavor ingresa un numero entero: \")\n",
    "        valor_entero = int(valor_usuario)\n",
    "        break  # se sale del loop si el valor es entero\n",
    "    except ValueError:\n",
    "        print(\"Numero invalido. Por favor ingresa un numero entero.\")\n",
    "\n",
    "print(\"Usted ha ingresado:\", valor_entero)"
   ]
  },
  {
   "cell_type": "code",
   "execution_count": 17,
   "id": "c4504cda-ef9d-4b00-9125-1d03fe6f5cf8",
   "metadata": {},
   "outputs": [
    {
     "name": "stdin",
     "output_type": "stream",
     "text": [
      "Captura un numero entero del 1 al 100 50\n"
     ]
    },
    {
     "name": "stdout",
     "output_type": "stream",
     "text": [
      "Tu calificacion es de:  D\n"
     ]
    }
   ],
   "source": [
    "#Clase 3, Ejercico 1 -- 1.3\n",
    "#Una escuela tiene el siguiente sistema de calificaciones\n",
    "\n",
    "grades = int(input('Captura un numero entero del 1 al 100'))\n",
    "\n",
    "if grades < 25:\n",
    " final_grades = \"F\"\n",
    "    \n",
    "elif (grades < 45):\n",
    " final_grades = \"E\"\n",
    "    \n",
    "elif (grades < 60):\n",
    " final_grades = \"D\"\n",
    "\n",
    "elif (grades < 75):\n",
    " final_grades = \"C\"\n",
    "\n",
    "elif (grades < 90):\n",
    " final_grades = \"B\" \n",
    "\n",
    "else:\n",
    "    final_grades = \"A\" \n",
    "print ('Tu calificacion es de: ',final_grades)  \n"
   ]
  },
  {
   "cell_type": "code",
   "execution_count": 26,
   "id": "b8c2d37e-77f1-41c8-bd7b-dc35003c292f",
   "metadata": {},
   "outputs": [
    {
     "name": "stdout",
     "output_type": "stream",
     "text": [
      "Cuantos elemnetos hay en la lists primero:  18\n",
      "18\n",
      "1\n",
      "13\n",
      "11\n",
      "[1, 2, 34, 5, 3, 12, 9]\n",
      "[1, 2, 34, 5, 3, 12, 9, 8, 67, 89, 98, 90, 39, 21, 45, 46, 23, 13, '100', '110']\n",
      "[90, 90, 90, 90, 90, 89, 98, 90, 39, 21, 45, 46, 23, 13]\n"
     ]
    }
   ],
   "source": [
    "#Clase 3, Ejercico 2 -- 2.1\n",
    "primero = [1, 2, 34, 5, 3, 12, 9, 8, 67, 89, 98, 90, 39, 21, 45, 46, 23, 13]\n",
    "print('Cuantos elemnetos hay en la lists primero: ', len(primero))\n",
    "\n",
    "#¿Cuántos elementos hay en la lista?\n",
    "#18\n",
    "print(len(primero))\n",
    "#Usando índices, averigüe cuál es el primer elemento de la lista.\n",
    "#1\n",
    "print (primero [0])\n",
    "\n",
    "#Usando índices, averigüe cuál es el último elemento de la lista.\n",
    "print(primero[len(primero)- 1])\n",
    "\n",
    "#¿Cuál es el índice del elemento 90 de la lista?\n",
    "#11\n",
    "print(primero.index(90))\n",
    "\n",
    "#¿Cuáles son los primeros 8 elementos de la lista?\n",
    "print (primero[0:7])\n",
    "\n",
    "#Agregar los elementos 100 y 110 a la lista\n",
    "primero.append('100')\n",
    "primero.append('110')\n",
    "print (primero)\n",
    "\n",
    "#Clase 3, Ejercico 2 -- 2.2\n",
    "#¿Puede una lista tener dos o más elementos iguales? Intente definir una nueva lista con algunos valores similares y vea si funciona.\n",
    "\n",
    "#Respuesta : Si\n",
    "segundo = [ 90, 90, 90, 90, 90, 89, 98, 90, 39, 21, 45, 46, 23, 13]\n",
    "print (segundo)"
   ]
  },
  {
   "cell_type": "code",
   "execution_count": 49,
   "id": "7dd5bf7b-8405-462b-a8f3-b3af1e4e4738",
   "metadata": {},
   "outputs": [
    {
     "name": "stdout",
     "output_type": "stream",
     "text": [
      "Los elementosclave-valor de el diccionario son:  23\n",
      "Las llaves son:  ['love', 'conversation', 'every', \"we're\", 'plate', 'sour', 'jukebox', 'now', 'taxi', 'fast', 'bag', 'man', 'push', 'baby', 'going', 'you', \"don't\", 'one', 'mind', 'backseat', 'friends', 'then', 'know']\n",
      "Las llaves incluyendo las nuevas son:  ['love', 'conversation', 'every', \"we're\", 'plate', 'sour', 'jukebox', 'now', 'taxi', 'fast', 'bag', 'man', 'push', 'baby', 'going', 'you', \"don't\", 'one', 'mind', 'backseat', 'friends', 'then', 'know', 'begin', 'start', 'over', 'body']\n",
      "La primera llave es:  love\n",
      "La frecuencia de Love:  1\n",
      "La frecuencia de taxi:  1\n",
      "La frecuencia de jukebox:  1\n",
      "body\n",
      "1\n"
     ]
    }
   ],
   "source": [
    "#Clase 3, Ejercico 3 -- 3.1\n",
    "word_freq = { 'love': 25, 'conversation': 1, 'every': 6, \"we're\": 1, 'plate': 1, 'sour': 1, 'jukebox': 1, 'now': 11, 'taxi': 1, 'fast': 1, 'bag': 1, 'man': 1, 'push': 3, 'baby': 14, 'going': 1, 'you': 16, \"don't\": 2, 'one': 1, 'mind': 2, 'backseat': 1, 'friends': 1, 'then': 3, 'know': 2 }\n",
    "\n",
    "#¿Cuántos pares clave-valor hay en este diccionario?\n",
    "# Respuesta : 6\n",
    "contar = len(word_freq)\n",
    "print('Los elementosclave-valor de el diccionario son: ',contar)\n",
    "\n",
    "#print(word_freq['love'])\n",
    "#print(word_freq.values())\n",
    "\n",
    "#¿Qué claves están presentes en esta lista?\n",
    "print('Las llaves son: ', list(word_freq.keys()))\n",
    "\n",
    "#¿Cuál es la frecuencia de las siguientes palabras en el diccionario? friends, taxi, jukebox\n",
    "#Respuests \" Uno cada uno\n",
    "\n",
    "#¿La palabra begin está presente en el diccionario?\n",
    "#print(word_freq['begin'])\n",
    "#Respuesta : NO\n",
    "\n",
    "#Añade las siguientes palabras y sus frecuencias al diccionario: 'begin': 1 'start': 2 'over': 1 'body': 17\n",
    "\n",
    "word_freq['begin'] = 1\n",
    "word_freq['start'] = 2\n",
    "word_freq['over'] = 1\n",
    "word_freq['body'] = 17\n",
    "#print(word_freq)\n",
    "\n",
    "\n",
    "#Utilice el siguiente código para convertir el resultado de \n",
    "print('Las llaves incluyendo las nuevas son: ', list(word_freq.keys()))\n",
    "\n",
    "#Almacene los resultados del código anterior en una variable llamada word .\n",
    "#¿Cuál es la primera palabra del diccionario?\n",
    "\n",
    "word = list(word_freq.keys())\n",
    "print ('La primera llave es: ', word[0])\n",
    "\n",
    "#¿Cuál es la frecuencia de esa palabra?\n",
    "# (list, element) y return\n",
    "\n",
    "def frecu(lst, element):\n",
    "  return lst.count(element)\n",
    "print('La frecuencia de Love: ', frecu(word, \"love\"))\n",
    "\n",
    "def frecu2(lst, element):\n",
    "  return lst.count(element)\n",
    "print('La frecuencia de taxi: ', frecu2(word, \"taxi\"))\n",
    "def frecu3(lst, element):\n",
    "  return lst.count(element)\n",
    "print('La frecuencia de jukebox: ', frecu3(word, \"jukebox\"))\n",
    "                   \n",
    "#print(frecu(word, word[0]))\n",
    "\n",
    "\n",
    "#¿Cuál es la última palabra del diccionario?\n",
    "#print(word.pop())\n",
    "\n",
    "#¿Cuál es la frecuencia de esa palabra?\n",
    "#REspuesta\" 1\n",
    "print (word[-1])\n",
    "\n",
    "#print(len(word))\n",
    "#print (word, len(word))\n",
    "#def frecu2(lst, element):\n",
    "  #return lst.count(element)\n",
    "print(frecu(word, word[-1]))\n",
    "\n",
    "#Clase 3, Ejercico 3 -- 3.2\n",
    "#3.2 ¿Puede un diccionario tener dos pares clave-valor con la misma clave?\n",
    "#No, deber ser unico\n",
    "\n",
    "#Clase 3, Ejercico 3 -- 3.3\n",
    "#3.3 ¿Puede un diccionario tener dos pares clave-valor con el mismo valor pero claves diferentes?\n",
    "#Si, en un diccionario si pueden tener dos claves diferentes un mismo valor\n",
    "\n"
   ]
  },
  {
   "cell_type": "code",
   "execution_count": 41,
   "id": "6fcea153-8fe3-4769-9f70-542b2088d04f",
   "metadata": {},
   "outputs": [
    {
     "name": "stdout",
     "output_type": "stream",
     "text": [
      "10\n",
      " \n",
      "11\n",
      " \n",
      "12\n",
      " \n",
      "13\n",
      " \n",
      "14\n",
      " \n",
      "15\n",
      " \n",
      "16\n",
      " \n",
      "17\n",
      " \n",
      "18\n",
      " \n",
      "19\n",
      " \n",
      "20\n",
      " \n",
      "21\n",
      " \n",
      "22\n",
      " \n",
      "23\n",
      " \n",
      "24\n",
      " \n",
      "25\n",
      " \n",
      "26\n",
      " \n",
      "27\n",
      " \n",
      "28\n",
      " \n",
      "29\n",
      " \n",
      "30\n",
      " \n",
      "10\n",
      "15\n",
      "20\n",
      "25\n",
      "30\n",
      "*\n",
      "****\n",
      "*******\n",
      "**********\n",
      "*************\n",
      "****************\n",
      "*******************\n",
      "**********************\n",
      "*************************\n",
      "****************************\n",
      "    *\n",
      "   ***\n",
      "  *****\n",
      " *******\n",
      "*********\n"
     ]
    }
   ],
   "source": [
    "#Clase 3, Ejercico 4 --\n",
    "#4.1 Escribe un bucle for simple para imprimir números enteros del 10 al 30. Además, escribe un código para imprimir esos números en pasos de 3.\n",
    "\n",
    "for num in range (10,31):\n",
    "    print(num)\n",
    "    print (\" \")\n",
    "#4.2 Actualiza el código anterior para imprimir todos los números del 10 al 30 que sean múltiplos de 5. (Estos son: 5,10, 15,...)\n",
    "#10 es el valor inicial, 30 es  donde se va a parar  el ultim\n",
    "for i in range(10,31):\n",
    "    if i%5 ==0:\n",
    "        print(i)\n",
    "#4.3 Escribe un código para imprimir este patrón. Modifique la declaración de impresión en el código ficticio proporcionado:\n",
    "#*\n",
    "#**\n",
    "#***\n",
    "#Código ficticio \n",
    "#for i in range(1, _, _): print(\"*\"*i)\"\"\n",
    "for i in range(1, 30, 3): print(\"*\"*i)\n",
    "\n",
    "#4.4 Actualice el código anterior para imprimir el siguiente patrón:\n",
    "a = 5\n",
    "for i in range(1, 10, 2): \n",
    "    a = a - 1 \n",
    "    print(\" \"*a+\"*\"*i)\n",
    "\n"
   ]
  },
  {
   "cell_type": "code",
   "execution_count": 78,
   "id": "499654ed-7d16-4be1-82cd-fb5aad721bac",
   "metadata": {},
   "outputs": [
    {
     "name": "stdin",
     "output_type": "stream",
     "text": [
      "Captura un numero entero 10\n"
     ]
    },
    {
     "name": "stdout",
     "output_type": "stream",
     "text": [
      "3628800\n"
     ]
    }
   ],
   "source": [
    "#4.5    \n",
    "#Factorial\n",
    "import math\n",
    "valor = int(input('Captura un numero entero'))\n",
    "\n",
    "resultado = math.factorial(valor)\n",
    "print (resultado)\n",
    "\n",
    "\n",
    "\n",
    "    "
   ]
  },
  {
   "cell_type": "code",
   "execution_count": null,
   "id": "0002e995-8697-4f49-a226-fb75496633b6",
   "metadata": {},
   "outputs": [],
   "source": []
  },
  {
   "cell_type": "code",
   "execution_count": null,
   "id": "2c94d1a2-9fad-48e9-ba9d-22c60f72f72c",
   "metadata": {},
   "outputs": [],
   "source": []
  }
 ],
 "metadata": {
  "kernelspec": {
   "display_name": "Python 3 (ipykernel)",
   "language": "python",
   "name": "python3"
  },
  "language_info": {
   "codemirror_mode": {
    "name": "ipython",
    "version": 3
   },
   "file_extension": ".py",
   "mimetype": "text/x-python",
   "name": "python",
   "nbconvert_exporter": "python",
   "pygments_lexer": "ipython3",
   "version": "3.13.1"
  }
 },
 "nbformat": 4,
 "nbformat_minor": 5
}
